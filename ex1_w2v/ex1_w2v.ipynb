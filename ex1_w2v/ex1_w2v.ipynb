{
 "cells": [
  {
   "cell_type": "code",
   "execution_count": 1,
   "metadata": {
    "scrolled": true
   },
   "outputs": [
    {
     "name": "stderr",
     "output_type": "stream",
     "text": [
      "Using TensorFlow backend.\n"
     ]
    },
    {
     "name": "stdout",
     "output_type": "stream",
     "text": [
      "train_array(6651, 13)\n",
      "val_array(887, 13)\n",
      "test_array(3239, 13)\n",
      "Reading data!\n",
      "ANomaly result!\n",
      "x_train.shape(6650,)\n",
      "y_train.shape(6650, 11)\n",
      "x_val.shape(886,)\n",
      "y_val.shape(886, 11)\n",
      "x_test.shape(3238,)\n",
      "y_test.shape(3238, 11)\n",
      "Finished!\n"
     ]
    },
    {
     "data": {
      "text/plain": [
       "str"
      ]
     },
     "execution_count": 1,
     "metadata": {},
     "output_type": "execute_result"
    }
   ],
   "source": [
    "import numpy as np\n",
    "import os, re, csv, math, codecs\n",
    "from keras.models import Sequential\n",
    "from keras.layers import Embedding\n",
    "from keras.preprocessing import sequence\n",
    "from keras.preprocessing.text import Tokenizer as t\n",
    "from tqdm import tqdm\n",
    "from keras.layers import merge, Dense, Input, LSTM, Embedding, Dropout, Activation, SpatialDropout1D\n",
    "from keras.layers.core import *\n",
    "from keras.layers.recurrent import LSTM\n",
    "from keras.layers.wrappers import Bidirectional\n",
    "from keras.models import *\n",
    "# to visualize, and to make zero shape matrix\n",
    "from attention_utils import get_activations, get_data_recurrent\n",
    "# from Attention import Attention\n",
    "import pandas as pd\n",
    "from konlpy.tag import Okt as Twitter\n",
    "# from selfword2vec import tokenization\n",
    "# from Anomaly import checkAnomaly_x_y\n",
    "from keras.callbacks import EarlyStopping, ModelCheckpoint\n",
    "from keras.models import load_model\n",
    "from numpy import argmax\n",
    "\n",
    "\n",
    "# 1. 모델 저장시키기 \n",
    "# 2. tokenizer와 konlpy morphs 호환 여부 (완성 jupyter note)\n",
    "# 2'. word2vec 2가지 경우 더 추가 to embedding(final_total word2vec, twitter_translated.vec)\n",
    "# 3. 변수들 설정하기\n",
    "\n",
    "\n",
    "np.random.seed(3)\n",
    "\n",
    "# NUM_WORDS, train으로 input받은 단어의 수\n",
    "MAX_NB_WORDS = 20000\n",
    "vocab_size = 0\n",
    "EMB_DIM = 300\n",
    "embeddings_index = dict()\n",
    "\n",
    "# columns = [\"ID\", \"Tweet\", \"anger\", \"anticipation\", \"disgust\", \"fear\", \"joy\", \"love\", \"optimism\", \"pessimism\",\"sadness\",\"surprise\",\"trust\"]\n",
    "columns = [\"ID\",\"Tweet\",\"분노\",\"기대\",\"혐오스러운\",\"두려움\",\"기쁨\",\"사랑\",\"낙관론\",\"비관론\",\"슬픔\",\"놀라움\",\"믿음\"]\n",
    "\n",
    "\n",
    "\n",
    "\n",
    "##########################################1. 데이터셋 생성하기\n",
    "\n",
    "train_array = pd.read_csv(\"/home/minwookje/coding/ex1_w2v/data/tweet/dump/kor_train.txt\",sep=\"\\t\", header=None,names=columns).values\n",
    "val_array = pd.read_csv(\"/home/minwookje/coding/ex1_w2v/data/tweet/dump/kor_dev.txt\",sep=\"\\t\", header=None,names=columns).values\n",
    "test_array = pd.read_csv(\"/home/minwookje/coding/ex1_w2v/data/tweet/dump/kor_test_gold.txt\",sep=\"\\t\", header=None,names=columns).values\n",
    "\n",
    "# 판다 shape\n",
    "print(\"train_array\"+ str(train_array.shape))\n",
    "print(\"val_array\"+str(val_array.shape))\n",
    "print(\"test_array\"+str(test_array.shape))\n",
    "\n",
    "print(\"Reading data!\")\n",
    "#  x, y 분할하기\n",
    "x_train = train_array[1:,1]\n",
    "y_train = train_array[1:,2:]\n",
    "x_val = val_array[1:,1]\n",
    "y_val = val_array[1:,2:]\n",
    "x_test = test_array[1:,1]\n",
    "y_test = test_array[1:,2:]\n",
    "\n",
    "print(\"ANomaly result!\")\n",
    "print(\"x_train.shape\"+ str(x_train.shape))\n",
    "print(\"y_train.shape\"+ str(y_train.shape))\n",
    "print(\"x_val.shape\"+ str(x_val.shape))\n",
    "print(\"y_val.shape\"+ str(y_val.shape))\n",
    "print(\"x_test.shape\"+ str(x_test.shape))\n",
    "print(\"y_test.shape\"+ str(y_test.shape))\n",
    "# print(type(x_train)) np.array로 변형이 필요한가\n",
    "print(\"Finished!\")\n",
    "\n",
    "# x_train[1]\n",
    "type(y_train[0][0])"
   ]
  },
  {
   "cell_type": "code",
   "execution_count": 2,
   "metadata": {},
   "outputs": [
    {
     "name": "stdout",
     "output_type": "stream",
     "text": [
      "(6619,)\n",
      "(6619, 11)\n"
     ]
    }
   ],
   "source": [
    "trimed_x = list()\n",
    "trimed_y = list()\n",
    "# trimed_y = np.ndarray()\n",
    "for i,y in enumerate(y_train):\n",
    "    if len(y) == 11:\n",
    "        sent = list()\n",
    "        for j,f in enumerate(y):\n",
    "            try:\n",
    "                float(f)\n",
    "                sent.append(f)\n",
    "            except ValueError:\n",
    "                #value가 float화 되지 못한다면 다음 문장으로 넘어간다.\n",
    "                sent = list()\n",
    "                break\n",
    "        if sent:\n",
    "            trimed_x.append(x_train[i])\n",
    "            trimed_y.append(y_train[i])\n",
    "\n",
    "print(np.array(trimed_x).shape)\n",
    "print(np.array(trimed_y).shape)\n",
    "\n",
    "\n",
    "# return np.array(trimed_x), np.array(trimed_y)\n",
    "        \n",
    "        \n",
    "        \n",
    "        "
   ]
  },
  {
   "cell_type": "code",
   "execution_count": 7,
   "metadata": {},
   "outputs": [],
   "source": [
    "y_train = np.array(trimed_y).astype('float32')"
   ]
  },
  {
   "cell_type": "code",
   "execution_count": 10,
   "metadata": {},
   "outputs": [
    {
     "data": {
      "text/plain": [
       "array([ 0.,  1.,  0.,  0.,  0.,  0.,  1.,  0.,  0.,  0.,  1.], dtype=float32)"
      ]
     },
     "execution_count": 10,
     "metadata": {},
     "output_type": "execute_result"
    }
   ],
   "source": [
    "y_train[0]"
   ]
  },
  {
   "cell_type": "code",
   "execution_count": 69,
   "metadata": {},
   "outputs": [],
   "source": [
    "j = np.array([1,2,3])\n",
    "k = list()"
   ]
  },
  {
   "cell_type": "code",
   "execution_count": 70,
   "metadata": {},
   "outputs": [],
   "source": [
    "k.extend(a)"
   ]
  },
  {
   "cell_type": "code",
   "execution_count": 62,
   "metadata": {},
   "outputs": [
    {
     "data": {
      "text/plain": [
       "numpy.int64"
      ]
     },
     "execution_count": 62,
     "metadata": {},
     "output_type": "execute_result"
    }
   ],
   "source": [
    "k\n",
    "type(k[0])"
   ]
  },
  {
   "cell_type": "code",
   "execution_count": 72,
   "metadata": {},
   "outputs": [
    {
     "name": "stdout",
     "output_type": "stream",
     "text": [
      "fu\n"
     ]
    }
   ],
   "source": [
    "if np.array(k).shape == j.shape:\n",
    "    print(\"fu\")"
   ]
  },
  {
   "cell_type": "code",
   "execution_count": 41,
   "metadata": {},
   "outputs": [
    {
     "data": {
      "text/plain": [
       "0.25"
      ]
     },
     "execution_count": 41,
     "metadata": {},
     "output_type": "execute_result"
    }
   ],
   "source": [
    "from sklearn.metrics import jaccard_similarity_score\n",
    "threshold =0.5\n",
    "y_pred = np.array([0.08,0.03,0.5,1]).astype('float32')\n",
    "y_pred = y_pred.round()\n",
    "y_true = np.array([1.0,1.0,0.0,0.0])\n",
    "jaccard_similarity_score(y_true,y_pred)\n"
   ]
  },
  {
   "cell_type": "code",
   "execution_count": 38,
   "metadata": {},
   "outputs": [
    {
     "data": {
      "text/plain": [
       "array([ 1.,  0.,  0.,  1.], dtype=float32)"
      ]
     },
     "execution_count": 38,
     "metadata": {},
     "output_type": "execute_result"
    }
   ],
   "source": [
    "y_pred"
   ]
  },
  {
   "cell_type": "code",
   "execution_count": 149,
   "metadata": {},
   "outputs": [],
   "source": [
    "from keras import backend as K\n",
    "threshold = 0.6\n",
    "y_pred = np.array([0.59,1,0.59,0.4])\n",
    "y_pred = (y_pred>threshold).astype('float64')\n",
    "y_true = np.array([1.0,1.0,0.0,0.0])\n",
    "\n",
    "intersection = K.sum(K.abs(y_true * y_pred), axis=-1)\n",
    "sum_ = K.sum(K.abs(y_true) + K.abs(y_pred), axis=-1)\n",
    "jac = (intersection) / (sum_ - intersection)"
   ]
  },
  {
   "cell_type": "code",
   "execution_count": 127,
   "metadata": {},
   "outputs": [
    {
     "name": "stdout",
     "output_type": "stream",
     "text": [
      "Tensor(\"Sum_29:0\", shape=(), dtype=float64)\n"
     ]
    }
   ],
   "source": [
    "print(intersection)"
   ]
  },
  {
   "cell_type": "code",
   "execution_count": 128,
   "metadata": {},
   "outputs": [
    {
     "name": "stdout",
     "output_type": "stream",
     "text": [
      "Tensor(\"Sum_30:0\", shape=(), dtype=float64)\n"
     ]
    }
   ],
   "source": [
    "print(sum_)"
   ]
  },
  {
   "cell_type": "code",
   "execution_count": 129,
   "metadata": {},
   "outputs": [
    {
     "name": "stdout",
     "output_type": "stream",
     "text": [
      "Tensor(\"truediv_14:0\", shape=(), dtype=float64)\n"
     ]
    }
   ],
   "source": [
    "print(jac)"
   ]
  },
  {
   "cell_type": "code",
   "execution_count": 151,
   "metadata": {},
   "outputs": [
    {
     "data": {
      "text/plain": [
       "1.0"
      ]
     },
     "execution_count": 151,
     "metadata": {},
     "output_type": "execute_result"
    }
   ],
   "source": [
    "K.eval(intersection)"
   ]
  },
  {
   "cell_type": "code",
   "execution_count": 152,
   "metadata": {},
   "outputs": [
    {
     "data": {
      "text/plain": [
       "0.5"
      ]
     },
     "execution_count": 152,
     "metadata": {},
     "output_type": "execute_result"
    }
   ],
   "source": [
    "K.eval(jac)"
   ]
  },
  {
   "cell_type": "code",
   "execution_count": 153,
   "metadata": {},
   "outputs": [
    {
     "data": {
      "text/plain": [
       "0.75"
      ]
     },
     "execution_count": 153,
     "metadata": {},
     "output_type": "execute_result"
    }
   ],
   "source": [
    "jaccard_similarity_score(y_true,y_pred)"
   ]
  },
  {
   "cell_type": "code",
   "execution_count": 154,
   "metadata": {},
   "outputs": [],
   "source": [
    "import sys\n",
    "def tanimoto_coefficient(p_vec, q_vec):\n",
    "    e = sys.float_info.epsilon\n",
    "    pq = p_vec * q_vec\n",
    "    p_square = np.sqrt(p_vec)\n",
    "    q_square = np.sqrt(q_vec)\n",
    "    return pq / (p_square + q_square - pq+e)"
   ]
  },
  {
   "cell_type": "code",
   "execution_count": 155,
   "metadata": {},
   "outputs": [
    {
     "data": {
      "text/plain": [
       "array([ 0.,  1.,  0.,  0.])"
      ]
     },
     "execution_count": 155,
     "metadata": {},
     "output_type": "execute_result"
    }
   ],
   "source": [
    "tanimoto_coefficient(y_true,y_pred)"
   ]
  },
  {
   "cell_type": "code",
   "execution_count": null,
   "metadata": {},
   "outputs": [],
   "source": []
  }
 ],
 "metadata": {
  "kernelspec": {
   "display_name": "Python [default]",
   "language": "python",
   "name": "python3"
  },
  "language_info": {
   "codemirror_mode": {
    "name": "ipython",
    "version": 3
   },
   "file_extension": ".py",
   "mimetype": "text/x-python",
   "name": "python",
   "nbconvert_exporter": "python",
   "pygments_lexer": "ipython3",
   "version": "3.6.7"
  }
 },
 "nbformat": 4,
 "nbformat_minor": 2
}
