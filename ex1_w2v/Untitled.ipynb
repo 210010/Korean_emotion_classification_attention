{
 "cells": [
  {
   "cell_type": "code",
   "execution_count": 22,
   "metadata": {},
   "outputs": [
    {
     "name": "stdout",
     "output_type": "stream",
     "text": [
      "18 1\n"
     ]
    }
   ],
   "source": [
    "import os\n",
    "def read_data(filename):\n",
    "    with open(filename, 'r') as f:\n",
    "        data = [line.split('\\t') for line in f.read().splitlines()]\n",
    "    return data\n",
    "\n",
    "def tokenize(doc):\n",
    "    pass\n",
    "\n",
    "def term_exitst(doc):\n",
    "    pass\n",
    "\n",
    "train_data = [read_data(str(os.getcwd()) + '/ori.txt')]\n",
    "\n",
    "# print data's shape\n",
    "print(len(train_data[0]),len(train_data[0][1]))\n",
    "# print(len(test_data[0]),len(test_data[0][1]))\n"
   ]
  },
  {
   "cell_type": "code",
   "execution_count": 5,
   "metadata": {},
   "outputs": [
    {
     "name": "stdout",
     "output_type": "stream",
     "text": [
      "[[['ID Tweet 효과 차원 강도 클래스'], [\"2018-KO-01052 '우리는 뭔가해야합니다. 뭔가해야합니다 !!!!! '\\\\ n \\\\ n 당신의 불안은 재미 있습니다. 아무것도하지 않을 것이다. 절망. 분노 1 : 분노가 적다\"], ['2018-En-03440 @ Chan_lfc10 @paul_rule @ Nuttall1878 @DeadlineDayLive @Everton 만약 우리의 8M 파운드가 강등 된 풀백 2 분을 위해 납치 되었다면 우리는 연기를 날릴 것입니다 : 적당량의 분노가 유추 될 수 있습니다'], ['2018-Ko-01489 Caleb는 좀비에 대해 악몽을 꾸몄습니다. 나는 자유에 대한 꿈을 꾸었다 ....... 분노 0 : 아무런 분노도 유추 할 수 없다.'], ['2018-Ko-00490 #CNN이 #Propaganda Business에서 벗어나야합니다. USN에서 30 초 동안 발생한 병사들의 비극. #hatred #POTUS 분출 2 : 분노의 적당한 양을 유추 할 수 있습니다.'], ['2018-En-02178 #dmme #kikme #sext #horny #ass #bbw #naughty #pussy #kik # 소녀들만 😩 흥분한 #snap jacobgigs 분노 0 : 분노를 유추 할 수 없음'], [\"2018-Ko-02533 5 년 전에 나를 잘라내 자마자 '가족 우선'으로 사진에 태그를 달지 마십시오. 너는 내게 아무 것도 아니야. 분노 3 : 많은 양의 분노가 유추 될 수 있음\"], ['2018-En-03360 그것이 뱀파이어와의 인터뷰라고 맹세했습니다. Hmmm ...... Mandela 누구에게 영향을 줍니까? \\\\ n # interviewwithavampire #annerice #books #horror #ilovevamps anger 0 : 분노는 유추 할 수 없습니다.'], ['2018-Ko-01552이 똥의 아프다. #mad #angry. 로완 앳킨슨은 죽지 않았다. 그냥 피의 온라인 고약한 분노 3 : 분노의 높은 금액을 유추 수 있습니다'], ['2018-Ko-01940 @lucybeecoconut 메이크업 리무버 및 곤충 스팅 릴리프! 분노 0 : 분노가 유추 될 수 없음'], ['2018-Ko-01654 나는 입에 절망하여 적대감을 일으키고 & amp; 휴가 캠프에있는 사람들의 부정직, & amp; 우리는 그것을 폭로해야한다. 분노 2 : 중간 정도의 분노가 유추 될 수 있음'], ['2018-En-00681 @ FangornForest1 @Brexit 고객이 그것을 좋아합니다. 요즘 해킹되는 것을 상상해보십시오. 유료 방송인이 부르는 곡을 불러야합니다. #dismal anger 1 : 낮은 분노가 유추 될 수 있음'], ['2018-En-02603 @ F1 왜 그렇게 늦게 발표 할지는 맨체스터에서 벗어나 쉬는 것이 힘들 것입니다. #sad anger 2 : 중간 정도의 분노가 유추 될 수 있음'], ['2018-Ko-04151 오늘 아침에 화끈 거리는 광기가 퍼져 나간다. 내가 그곳에 누드 서있는 동안 그들이 내 샤워 실을 흔들지 않았 으면 좋겠어. 분노 0 : 분노가 유추 될 수 없음'], ['2018-Ko-04326 # DamilolaOurLovedBoy 너무 화가났습니다. 왜 사람들은 다른 사람들에게 상처를주고 싶어합니까! 우리가 살고있는 그런 잔인한 세상 # 화가 나는 분노 2 : 적당량의 분노가 유추 될 수있다.'], ['2018-Ko-00813 내가 너를 괴롭게하면 미안해. 나는 루비에 대한 진정한 열정을 가지고 있고, 항상 그녀에게 가치가있는 사랑을주고 싶다. 😭 분노 0 : 분노는 유추 할 수 없다.'], ['2018-KO-00780 예수님께서는 당신이 마땅히해야 할 진노의 잔을 마 셨으니, 영원히 만족하시는 그분의 구원의 잔을 깊이 마실 수있었습니다 (합 2:15). 분노 0 : 분노가 유추 될 수 없음'], ['2018-Ko-01209 나는 먹이를 발견했고, 나는 살아있는 꿀벌을 사정하고 꿀벌은 #angry했다. 분노 3 : 많은 양의 분노가 유추 될 수 있음']]]\n"
     ]
    }
   ],
   "source": [
    "print(train_data)"
   ]
  },
  {
   "cell_type": "code",
   "execution_count": 19,
   "metadata": {},
   "outputs": [
    {
     "name": "stdout",
     "output_type": "stream",
     "text": [
      "14 1\n"
     ]
    }
   ],
   "source": [
    "train_data = [read_data(str(os.getcwd()) + '/ori2.txt')]\n",
    "print(len(train_data[0]),len(train_data[0][1]))"
   ]
  },
  {
   "cell_type": "code",
   "execution_count": 20,
   "metadata": {
    "scrolled": false
   },
   "outputs": [
    {
     "name": "stdout",
     "output_type": "stream",
     "text": [
      "[[['ID &nbsp; Tweet &nbsp; Affect Dimension &nbsp; Intensity Class'], [\"2018-En-01052 &nbsp; 'we need to do something. something must be done!!!!!'\\\\n\\\\nyour anxiety is amusing. nothing will be done. despair. &nbsp; anger &nbsp; 1: low amount of anger can be inferred\"], [\"2018-En-03440 &nbsp; @Chan_lfc10 @paul_rule @Nuttall1878 @DeadlineDayLive @Everton We'd be fuming if the hijacked our £8m move for a relegated full back 😡 &nbsp; anger &nbsp; 2: moderate amount of anger can be inferred\"], ['2018-En-01489 &nbsp; Caleb had a nightmare about zombies. I had a dream about freedom....... &nbsp; anger &nbsp; 0: no anger can be inferred'], ['2018-En-00490 &nbsp; #CNN really needs to get out of the #Propaganda Business.. 30 seconds on USN fallen Soldiers tragedy. Right back at spewing #hatred #POTUS &nbsp; anger &nbsp; 2: moderate amount of anger can be inferred'], ['2018-En-02178 &nbsp; #dmme #kikme  #sext #horny  #ass #bbw  #naughty  #pussy #kik   #nudes  only  girls  😩 horny  #snap    jacobgigs &nbsp; anger &nbsp; 0: no anger can be inferred'], [\"2018-En-02533 &nbsp; Don't fucking tag me in pictures as 'family first' when you cut me out 5 years ago. You're no one to me.  &nbsp; anger &nbsp; 3: high amount of anger can be inferred\"], ['2018-En-03360 &nbsp; Coulda sworn it was Interview With A Vampire. Hmmm......Mandela Effect anyone? \\\\n#interviewwithavampire #annerice #books #horror #ilovevamps &nbsp; anger &nbsp; 0: no anger can be inferred'], ['2018-En-01552 &nbsp; sick of this shit. #mad #angry. Rowan Atkinson Is Not Dead. Just A Bloody Online Hoax😡😡😡😡🤬🤬🤬🤬 &nbsp; anger &nbsp; 3: high amount of anger can be inferred'], ['2018-En-01940 &nbsp; @lucybeecoconut A make up remover and insect sting relief! &nbsp; anger &nbsp; 0: no anger can be inferred'], ['2018-En-01654 &nbsp; I despair at the mouth foaming hostility &amp; dishonesty of those in the Leave camp, &amp; we should expose that. &nbsp; anger &nbsp; 2: moderate amount of anger can be inferred'], ['2018-En-00681 &nbsp; @FangornForest1 @Brexit whose customers love it. Imagine being a hack these days, having to sing the tune the paymaster calls. #dismal &nbsp; anger &nbsp; 1: low amount of anger can be inferred'], ['2018-En-02603 &nbsp; @F1 Why announcing so late, it will be hard to make it from Manchester and organising a day off. #sad &nbsp; anger &nbsp; 2: moderate amount of anger can be inferred'], ['']]]\n"
     ]
    }
   ],
   "source": [
    "print(train_data)"
   ]
  },
  {
   "cell_type": "code",
   "execution_count": 24,
   "metadata": {},
   "outputs": [
    {
     "name": "stdout",
     "output_type": "stream",
     "text": [
      "[\"2018-KO-01052 '우리는 뭔가해야합니다. 뭔가해야합니다 !!!!! '\\\\ n \\\\ n 당신의 불안은 재미 있습니다. 아무것도하지 않을 것이다. 절망. 분노 1 : 분노가 적다\"]\n"
     ]
    }
   ],
   "source": [
    "print(train_data[0][1])"
   ]
  },
  {
   "cell_type": "code",
   "execution_count": 25,
   "metadata": {},
   "outputs": [
    {
     "name": "stdout",
     "output_type": "stream",
     "text": [
      "14 4\n"
     ]
    }
   ],
   "source": [
    "train_data = [read_data(str(os.getcwd()) + '/ori3.txt')]\n",
    "print(len(train_data[0]),len(train_data[0][1]))"
   ]
  },
  {
   "cell_type": "code",
   "execution_count": 33,
   "metadata": {},
   "outputs": [
    {
     "name": "stdout",
     "output_type": "stream",
     "text": [
      "4\n"
     ]
    }
   ],
   "source": [
    "print(len(train_data[0][1]))"
   ]
  },
  {
   "cell_type": "code",
   "execution_count": 34,
   "metadata": {},
   "outputs": [],
   "source": [
    "# 1. \\t을 ' &nbsp; '로 바꾼다.\n",
    "# 2. 번역한다.\n",
    "# 3. 번역한 txt를 다시 /t로 바꾼다.\n",
    "# shape 4개인 리스트가 뽑혀나온다.\n",
    "# http://pythonkim.tistory.com/92?category=613486 를 실행한다. "
   ]
  },
  {
   "cell_type": "code",
   "execution_count": null,
   "metadata": {},
   "outputs": [],
   "source": []
  }
 ],
 "metadata": {
  "kernelspec": {
   "display_name": "Python 3",
   "language": "python",
   "name": "python3"
  },
  "language_info": {
   "codemirror_mode": {
    "name": "ipython",
    "version": 3
   },
   "file_extension": ".py",
   "mimetype": "text/x-python",
   "name": "python",
   "nbconvert_exporter": "python",
   "pygments_lexer": "ipython3",
   "version": "3.7.0"
  }
 },
 "nbformat": 4,
 "nbformat_minor": 2
}
