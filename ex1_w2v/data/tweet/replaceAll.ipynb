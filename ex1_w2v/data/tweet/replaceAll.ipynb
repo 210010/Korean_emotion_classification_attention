{
 "cells": [
  {
   "cell_type": "code",
   "execution_count": 1,
   "metadata": {},
   "outputs": [
    {
     "name": "stdout",
     "output_type": "stream",
     "text": [
      "E-c-En-test.txt changed! \n",
      "E-c-En-dev.txt changed! \n",
      "E-c-En-train.txt changed! \n",
      "E-c-En-test-gold.txt changed! \n"
     ]
    }
   ],
   "source": [
    "import os\n",
    "import fileinput\n",
    "import sys\n",
    "\n",
    "\n",
    "def replaceAll(file, searchExp, replaceExp):\n",
    "    for line in fileinput.input(file, inplace=1):\n",
    "        if searchExp in line:\n",
    "            line = line.replace(searchExp,replaceExp)\n",
    "        sys.stdout.write(line)\n",
    "    print(file + \" changed! \")\n",
    "    \n",
    "\n",
    "\n",
    "for filename in os.listdir(os.getcwd()):\n",
    "    if \".txt\" in filename:\n",
    "#         txt to html \n",
    "        replaceAll(filename,\" &nbsp; \",\"\\t\")\n",
    "    \n",
    "# 번역 html to txt\n",
    "#         replaceAll(filename,\"\\t\",\" & nbsp; \")\n",
    "#         print(filename, type(filename))"
   ]
  },
  {
   "cell_type": "code",
   "execution_count": 14,
   "metadata": {},
   "outputs": [],
   "source": [
    "# import fileinput\n",
    "# for line in fileinput.FileInput(\"./test.txt\", inplace=1):\n",
    "#     line=line.replace(\"\\t\",\"강\")\n",
    "#     print(line)"
   ]
  },
  {
   "cell_type": "code",
   "execution_count": 3,
   "metadata": {},
   "outputs": [
    {
     "name": "stdout",
     "output_type": "stream",
     "text": [
      "twitter-2016train-A.txt\n",
      "SemEval2017-task4-test.subtask-A.english.txt\n",
      "twitter-2013train-A.txt\n",
      "twitter-2016test-A.txt\n",
      "twitter-2015test-A.txt\n",
      "twitter-2013test-A.txt\n"
     ]
    }
   ],
   "source": [
    "import os\n",
    "for filename in os.listdir(os.getcwd()):\n",
    "    if \".txt\" in filename:\n",
    "        print(filename)"
   ]
  },
  {
   "cell_type": "code",
   "execution_count": null,
   "metadata": {},
   "outputs": [],
   "source": []
  }
 ],
 "metadata": {
  "kernelspec": {
   "display_name": "Python [default]",
   "language": "python",
   "name": "python3"
  },
  "language_info": {
   "codemirror_mode": {
    "name": "ipython",
    "version": 3
   },
   "file_extension": ".py",
   "mimetype": "text/x-python",
   "name": "python",
   "nbconvert_exporter": "python",
   "pygments_lexer": "ipython3",
   "version": "3.6.7"
  }
 },
 "nbformat": 4,
 "nbformat_minor": 2
}
