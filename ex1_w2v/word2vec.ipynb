{
 "cells": [
  {
   "cell_type": "code",
   "execution_count": 3,
   "metadata": {},
   "outputs": [],
   "source": [
    "#!/usr/bin/env python\n",
    "# -*- coding: utf-8 -*-\n",
    "\n",
    "import os\n",
    "from konlpy.tag import Okt as Twitter\n",
    "import gensim \n",
    "import tensorflow as tf\n",
    "import numpy as np\n",
    "import codecs\n",
    "from pprint import pprint\n",
    "import nltk\n",
    "import re"
   ]
  },
  {
   "cell_type": "code",
   "execution_count": 18,
   "metadata": {
    "scrolled": true
   },
   "outputs": [
    {
     "name": "stdout",
     "output_type": "stream",
     "text": [
      "32\n",
      "1105\n",
      "['2018-Ko-03093', '내가 따라야 할 좋은 #funny #entertaining # 관심있는 계정은 무엇입니까? 내 트위터가 건조한', '기쁨', '1 : 낮은 기쁨을 유추 할 수 있음']\n"
     ]
    },
    {
     "name": "stderr",
     "output_type": "stream",
     "text": [
      "/home/minwookje/anaconda3/envs/keras/lib/python3.6/site-packages/ipykernel/__main__.py:104: DeprecationWarning: Call to deprecated `iter` (Attribute will be removed in 4.0.0, use self.epochs instead).\n"
     ]
    },
    {
     "name": "stdout",
     "output_type": "stream",
     "text": [
      "0\n",
      "1\n",
      "2\n",
      "3\n",
      "4\n",
      "5\n",
      "6\n",
      "7\n",
      "8\n",
      "9\n",
      "10\n",
      "11\n",
      "12\n",
      "13\n",
      "14\n",
      "15\n",
      "16\n",
      "17\n",
      "18\n",
      "19\n",
      "20\n",
      "21\n",
      "22\n",
      "23\n",
      "24\n",
      "25\n",
      "26\n",
      "27\n",
      "28\n",
      "29\n"
     ]
    }
   ],
   "source": [
    "#1. dir에 있는 txt데이터 읽기\n",
    "def read_data(filename):    \n",
    "    with open(filename, 'r',encoding='utf-8') as f:\n",
    "        data = [line.split('\\t') for line in f.read().splitlines()]        \n",
    "        data = data[1:]   # header 제외 #    \n",
    "    return data\n",
    "\n",
    "train_data = list()\n",
    "for (path, dir, files) in os.walk(os.getcwd()+'/trans2/google'):\n",
    "    \n",
    "    for filename in files:\n",
    "        ext = os.path.splitext(filename)[-1]\n",
    "        if ext == '.txt':\n",
    "            \n",
    "            train_data.append(read_data(path+'/'+filename))\n",
    "\n",
    "# print(len(train_data))      # nrows: 1701\n",
    "# print(len(train_data[0]))   # ncols: 4\n",
    "# print(train_data[0][1])\n",
    "\n",
    "#2. shape4가 다른 녀석들 읽지말고\n",
    "def del_anomaly_shape(data):\n",
    "    a = []\n",
    "#     if shape == 3:\n",
    "#         for i in range(len(data)):\n",
    "#     #         data size 3가 되야 정상\n",
    "#             if len(data[i]) != 3:\n",
    "#                 a.append(i)\n",
    "    for i in range(len(data)):\n",
    "    # data size 4가 되야 정상\n",
    "        if len(data[i]) != 4:\n",
    "            a.append(i)\n",
    "\n",
    "            \n",
    "    for index in sorted(a, reverse=True):\n",
    "        del data[index]\n",
    "#     print(len(a))\n",
    "    \n",
    "    return data\n",
    "\n",
    "\n",
    "# 3. data[1]인녀석들의 영어와 숫자를 모두 제거한다. \n",
    "def preprocess(text):\n",
    "    data = list()\n",
    "    for line in text:\n",
    "        sentence = re.sub(r\"[a-zA-Z0-9]+\", '', line)\n",
    "        data.append(sentence)\n",
    "    \n",
    "    retrun data\n",
    "    \n",
    "\n",
    "\n",
    "def tokenize(doc):\n",
    "\n",
    "    return ['/'.join(t) for t in pos_tagger.pos(doc, norm=True, stem=True)]\n",
    "\n",
    "\n",
    "\n",
    "\n",
    "\n",
    "\n",
    "# 형태소로 토크나이징\n",
    "pos_tagger = Twitter()\n",
    "\n",
    "tmp = list()\n",
    "for i in range(len(train_data)):\n",
    "    tmp.append(del_anomaly_shape(train_data[i]))\n",
    "\n",
    "# 전처리\n",
    "train_data = preprocess(tmp)\n",
    "train_docs= list()\n",
    "    \n",
    "# train_data2 = del_anomaly_shape(train_data2)\n",
    "# # test_data = del_anomaly_shape(test_data)\n",
    "\n",
    "# # training Word2Vec model using skip-gram   \n",
    "# # row[0][3][0] = 분노의 정도 (int값)\n",
    "\n",
    "\n",
    "for i in train_data:\n",
    "    train_docs += [tokenize(row[1]) for row in i]\n",
    "\n",
    "# train_docs2 = [(tokenize(row[1]),row[3][0]) for row in train_data2]\n",
    "# # test_docs = [(tokenize(row[1]), row[3][0]) for row in test_data]\n",
    "\n",
    "tokens = [t for d in train_docs for t in d]\n",
    "\n",
    "# print(len(tokens))\n",
    "\n",
    "\n",
    "\n",
    "# # #########  Nltk data exploration\n",
    "# text = nltk.Text(tokens, name='NMSC')\n",
    "# # 80만개 선택\n",
    "# selected_words = [f[0] for f in text.vocab().most_common(800000)]\n",
    "# text = selected_words\n",
    "\n",
    "\n",
    "model = gensim.models.Word2Vec(size=300, window=2 ,workers=4, min_count=50,sg = 1, alpha=0.025,min_alpha=0.025, seed=1234)\n",
    "\n",
    "model.build_vocab(tokens)\n",
    "\n",
    "\n",
    "for epoch in range(30):\n",
    "           \n",
    "    model.train(tokens,total_examples=model.corpus_count,epochs = model.iter)\n",
    "    model.alpha -= 0.002\n",
    "    model.min_alpha = model.alpha\n",
    "    print(epoch)\n",
    "    \n",
    "    \n",
    "model.save('./Word2vec.model')\n",
    "# model.most_similar('분노/noun',topn = 20)  ## topn = len(model.wv.vocab)"
   ]
  },
  {
   "cell_type": "code",
   "execution_count": 1,
   "metadata": {
    "scrolled": true
   },
   "outputs": [
    {
     "ename": "ModuleNotFoundError",
     "evalue": "No module named 'gensim'",
     "output_type": "error",
     "traceback": [
      "\u001b[0;31m---------------------------------------------------------------------------\u001b[0m",
      "\u001b[0;31mModuleNotFoundError\u001b[0m                       Traceback (most recent call last)",
      "\u001b[0;32m<ipython-input-1-93142137ffd4>\u001b[0m in \u001b[0;36m<module>\u001b[0;34m()\u001b[0m\n\u001b[0;32m----> 1\u001b[0;31m \u001b[0;32mimport\u001b[0m \u001b[0mgensim\u001b[0m\u001b[0;34m\u001b[0m\u001b[0m\n\u001b[0m\u001b[1;32m      2\u001b[0m \u001b[0;32mimport\u001b[0m \u001b[0mtensorflow\u001b[0m \u001b[0;32mas\u001b[0m \u001b[0mtf\u001b[0m\u001b[0;34m\u001b[0m\u001b[0m\n\u001b[1;32m      3\u001b[0m \u001b[0;32mimport\u001b[0m \u001b[0mcodecs\u001b[0m\u001b[0;34m\u001b[0m\u001b[0m\n\u001b[1;32m      4\u001b[0m \u001b[0;32mimport\u001b[0m \u001b[0mos\u001b[0m\u001b[0;34m\u001b[0m\u001b[0m\n\u001b[1;32m      5\u001b[0m \u001b[0;32mimport\u001b[0m \u001b[0mnumpy\u001b[0m \u001b[0;32mas\u001b[0m \u001b[0mnp\u001b[0m\u001b[0;34m\u001b[0m\u001b[0m\n",
      "\u001b[0;31mModuleNotFoundError\u001b[0m: No module named 'gensim'"
     ]
    }
   ],
   "source": [
    "import gensim\n",
    "import tensorflow as tf\n",
    "import codecs\n",
    "import os\n",
    "import numpy as np\n",
    "\n",
    "model = gensim.models.word2vec.Word2Vec.load('Word2vec.model')\n",
    "max_size = len(model.wv.vocab)-1\n",
    "w2v = np.zeros((max_size,model.layer1_size))\n",
    "\n",
    "# metadata.tsv업데이트하기\n",
    "with codecs.open(\"metadata.tsv\",'w+',encoding='utf8') as file_metadata:\n",
    "    for i,word in enumerate(model.wv.index2word[:max_size]):\n",
    "        w2v[i] = model.wv[word]\n",
    "        file_metadata.write(word + \"\\n\")\n",
    "\n",
    "# from tensorflow.contrib.tensorboard.plugins import projector\n",
    "\n",
    "\n",
    "# sess = tf.InteractiveSession()\n",
    "# ##  Create 2D tensor called embedding that holds our embeddings ##  \n",
    "# with tf.device(\"/cpu:0\"):\n",
    "#     embedding = tf.Variable(w2v, trainable = False,  name = 'embedding')   \n",
    "\n",
    "# tf.global_variables_initializer().run()\n",
    "\n",
    "# path = 'word2vec'\n",
    "\n",
    "# saver = tf.train.Saver()\n",
    "# writer = tf.summary.FileWriter(path, sess.graph)\n",
    "\n",
    "# ## adding into project\n",
    "# config = projector.ProjectorConfig()\n",
    "# embed = config.embeddings.add()\n",
    "# embed.tensor_name = 'embedding'\n",
    "# embed.metadata_path = './metadata.tsv'\n",
    "# # Specify the width and height of a single thumbnail.\n",
    "# projector.visualize_embeddings(writer, config)\n",
    "# saver.save(sess, path + '/model.ckpt' , global_step=max_size)"
   ]
  },
  {
   "cell_type": "code",
   "execution_count": 20,
   "metadata": {
    "scrolled": false
   },
   "outputs": [
    {
     "name": "stderr",
     "output_type": "stream",
     "text": [
      "/home/minwookje/anaconda3/envs/keras/lib/python3.6/site-packages/ipykernel/__main__.py:1: DeprecationWarning: Call to deprecated `most_similar` (Method will be removed in 4.0.0, use self.wv.most_similar() instead).\n",
      "  if __name__ == '__main__':\n"
     ]
    },
    {
     "data": {
      "text/plain": [
       "[('...../Punctuation', 0.7059279084205627),\n",
       " ('맞다/Verb', 0.6767151355743408),\n",
       " ('점/Noun', 0.6739176511764526),\n",
       " ('인하다/Adjective', 0.6714572906494141),\n",
       " ('인간/Noun', 0.670412003993988),\n",
       " ('계획/Noun', 0.6638398170471191),\n",
       " ('년/Noun', 0.6505692005157471),\n",
       " ('정의/Noun', 0.6504296660423279),\n",
       " ('여기/Noun', 0.6488509774208069),\n",
       " ('부분/Noun', 0.6485463380813599),\n",
       " ('클럽/Noun', 0.6478688716888428),\n",
       " ('..../Punctuation', 0.6448889970779419),\n",
       " ('남성/Noun', 0.6372814774513245),\n",
       " ('사망/Noun', 0.6371808052062988),\n",
       " ('살해/Noun', 0.6371168494224548),\n",
       " ('사진/Noun', 0.636451780796051),\n",
       " ('16/Number', 0.6353298425674438),\n",
       " ('아시아/Noun', 0.6316608190536499),\n",
       " ('불구/Noun', 0.6313873529434204),\n",
       " ('u/Alpha', 0.631290078163147)]"
      ]
     },
     "execution_count": 20,
     "metadata": {},
     "output_type": "execute_result"
    }
   ],
   "source": [
    "model.most_similar('범죄/Noun',topn = 20)  ## topn = len(model.wv.vocab)"
   ]
  },
  {
   "cell_type": "code",
   "execution_count": null,
   "metadata": {},
   "outputs": [],
   "source": [
    "from keras.preprocessing.text import *\n",
    "from keras.preprocessing.sequence import skip"
   ]
  }
 ],
 "metadata": {
  "kernelspec": {
   "display_name": "Python 3",
   "language": "python",
   "name": "python3"
  },
  "language_info": {
   "codemirror_mode": {
    "name": "ipython",
    "version": 3
   },
   "file_extension": ".py",
   "mimetype": "text/x-python",
   "name": "python",
   "nbconvert_exporter": "python",
   "pygments_lexer": "ipython3",
   "version": "3.7.0"
  }
 },
 "nbformat": 4,
 "nbformat_minor": 2
}
