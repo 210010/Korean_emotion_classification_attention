{
 "cells": [
  {
   "cell_type": "code",
   "execution_count": null,
   "metadata": {},
   "outputs": [],
   "source": [
    "import numpy\n",
    "\n",
    "def eval_mclf(y, y_hat):\n",
    "    results = {\n",
    "        \"jaccard\": jaccard_similarity_score(numpy.array(y),\n",
    "                                            numpy.array(y_hat)),\n",
    "        \"f1-macro\": f1_score(numpy.array(y), numpy.array(y_hat),\n",
    "                             average='macro'),\n",
    "        \"f1-micro\": f1_score(numpy.array(y), numpy.array(y_hat),\n",
    "                             average='micro')\n",
    "    }\n",
    "\n",
    "    return results"
   ]
  }
 ],
 "metadata": {
  "kernelspec": {
   "display_name": "Python 3",
   "language": "python",
   "name": "python3"
  },
  "language_info": {
   "codemirror_mode": {
    "name": "ipython",
    "version": 3
   },
   "file_extension": ".py",
   "mimetype": "text/x-python",
   "name": "python",
   "nbconvert_exporter": "python",
   "pygments_lexer": "ipython3",
   "version": "3.7.0"
  }
 },
 "nbformat": 4,
 "nbformat_minor": 2
}
